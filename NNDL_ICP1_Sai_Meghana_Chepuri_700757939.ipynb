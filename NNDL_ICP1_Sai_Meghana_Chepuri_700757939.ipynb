{
  "nbformat": 4,
  "nbformat_minor": 0,
  "metadata": {
    "colab": {
      "provenance": []
    },
    "kernelspec": {
      "name": "python3",
      "display_name": "Python 3"
    },
    "language_info": {
      "name": "python"
    }
  },
  "cells": [
    {
      "cell_type": "code",
      "execution_count": 3,
      "metadata": {
        "colab": {
          "base_uri": "https://localhost:8080/"
        },
        "id": "Gcm4aOPUunPU",
        "outputId": "5cd91d08-35fc-4f77-fcb1-7fc5d06dec1d"
      },
      "outputs": [
        {
          "output_type": "stream",
          "name": "stdout",
          "text": [
            "Enter a string: Python\n",
            "Given string:  Python\n",
            "Reversed string:  noht\n"
          ]
        }
      ],
      "source": [
        "# 1 a)\n",
        "# =======================\n",
        "input1 = input(\"Enter a string: \")\n",
        "print(\"Given string: \",input1)\n",
        "inputList = list(input1)\n",
        "if len(input1) >= 2:\n",
        "  del inputList[:2]\n",
        "reversedString = ''.join(inputList[::-1])\n",
        "print(\"Reversed string: \", reversedString)"
      ]
    },
    {
      "cell_type": "code",
      "source": [
        "# 1 b)\n",
        "# ========================\n",
        "input1 = float(input(\"Enter the first number: \"))\n",
        "input2 = float(input(\"Enter the second number: \"))\n",
        "\n",
        "print(\"Addition: \",input1 + input2)   # addition(+)\n",
        "print(\"Subtraction: \",input1 - input2)   # subtraction(-)\n",
        "print(\"Exponential: \",input1 ** input2)  # exponential(**)\n",
        "print(\"Modulus: \",input1 % input2)   # modulus(%)\n",
        "\n"
      ],
      "metadata": {
        "colab": {
          "base_uri": "https://localhost:8080/"
        },
        "id": "4YgLRdYA7g0_",
        "outputId": "fb0bef03-0088-4334-a050-46252d24bbfd"
      },
      "execution_count": 5,
      "outputs": [
        {
          "output_type": "stream",
          "name": "stdout",
          "text": [
            "Enter the first number: 3\n",
            "Enter the second number: 2\n",
            "Addition:  5.0\n",
            "Subtraction:  1.0\n",
            "Exponential:  9.0\n",
            "Modulus:  1.0\n"
          ]
        }
      ]
    },
    {
      "cell_type": "code",
      "source": [
        "# 2)\n",
        "# =========================\n",
        "sentence1 = input(\"Enter the string: \")\n",
        "resultedSentence = sentence1.replace('python', 'pythons')\n",
        "print(resultedSentence)\n"
      ],
      "metadata": {
        "colab": {
          "base_uri": "https://localhost:8080/"
        },
        "id": "TVAd6vaW8mdP",
        "outputId": "11149fb7-6ffc-44a9-9662-46be009637ca"
      },
      "execution_count": 6,
      "outputs": [
        {
          "output_type": "stream",
          "name": "stdout",
          "text": [
            "Enter the string: I love playing with python\n",
            "I love playing with pythons\n"
          ]
        }
      ]
    },
    {
      "cell_type": "code",
      "source": [
        "# 3)\n",
        "# ========================\n",
        "input1 = float(input(\"Enter your class score: \"))\n",
        "if 90 <= input1 <= 100:\n",
        "  print(\"Grade A\")\n",
        "elif input1 >= 80:\n",
        "  print(\"Grade B\")\n",
        "elif input1 >= 70:\n",
        "  print(\"Grade C\")\n",
        "elif input1 >= 60:\n",
        "  print(\"Grade D\")\n",
        "else:\n",
        "  print(\"Grade F\")\n",
        ""
      ],
      "metadata": {
        "colab": {
          "base_uri": "https://localhost:8080/"
        },
        "id": "kqFKRTZE9-6o",
        "outputId": "a95b9e7b-baec-41e6-c792-14ca5c45f83f"
      },
      "execution_count": 10,
      "outputs": [
        {
          "output_type": "stream",
          "name": "stdout",
          "text": [
            "Enter your class score: 35\n",
            "Grade F\n"
          ]
        }
      ]
    }
  ]
}